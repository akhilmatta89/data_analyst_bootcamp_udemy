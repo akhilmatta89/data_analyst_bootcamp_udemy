{
 "cells": [
  {
   "cell_type": "code",
   "execution_count": 4,
   "id": "7d2489eb-2b4e-4faa-a99a-c57520627a01",
   "metadata": {},
   "outputs": [
    {
     "name": "stdout",
     "output_type": "stream",
     "text": [
      "5\n"
     ]
    }
   ],
   "source": [
    "x = 5\n",
    "print(x)"
   ]
  },
  {
   "cell_type": "code",
   "execution_count": 5,
   "id": "d49d64b6-5ec3-4d2d-9e22-001f714baec1",
   "metadata": {},
   "outputs": [
    {
     "name": "stdout",
     "output_type": "stream",
     "text": [
      "1 2\n"
     ]
    }
   ],
   "source": [
    "x,y = 1,2\n",
    "print(x,y)"
   ]
  },
  {
   "cell_type": "markdown",
   "id": "fa4a0be8-775b-4c4c-b34a-38c9ecd46c23",
   "metadata": {},
   "source": [
    "## EXERCISE-1\n",
    "### Create a variable with name x and a value of 10. Execute.\n",
    "### Tell the computer to show you the value of that variable without utilizing the print() function, similar to what you would do in Jupyter.h"
   ]
  },
  {
   "cell_type": "code",
   "execution_count": 6,
   "id": "f5cff7b3-73ca-4cbd-82e4-3ce5d5aac4bb",
   "metadata": {},
   "outputs": [],
   "source": [
    "x = 10"
   ]
  },
  {
   "cell_type": "code",
   "execution_count": 7,
   "id": "2ed6c646-c757-431d-9f1e-4572febb23cb",
   "metadata": {},
   "outputs": [
    {
     "data": {
      "text/plain": [
       "10"
      ]
     },
     "execution_count": 7,
     "metadata": {},
     "output_type": "execute_result"
    }
   ],
   "source": [
    "x"
   ]
  },
  {
   "cell_type": "markdown",
   "id": "7217f83f-08e4-45a3-80cc-fb96f5ac73a1",
   "metadata": {},
   "source": [
    "## EXERCISE-2\n",
    "### Create a variable with name x and a value of 10. Execute\n",
    "### Can you think of a second way to obtain the same result?"
   ]
  },
  {
   "cell_type": "code",
   "execution_count": 8,
   "id": "ad98d2cb-6d31-4d5e-8bc0-f10cb0672918",
   "metadata": {},
   "outputs": [
    {
     "name": "stdout",
     "output_type": "stream",
     "text": [
      "10\n"
     ]
    }
   ],
   "source": [
    "X = 10\n",
    "print(x)"
   ]
  },
  {
   "cell_type": "markdown",
   "id": "5193f4ed-eed5-4c05-a633-45fe8bdefe58",
   "metadata": {},
   "source": [
    "## EXERCISE-3\n",
    "### On the same line, create four new variables: a, b, c, and d, that are equal to 10, 20, 30, and 40, respectively."
   ]
  },
  {
   "cell_type": "code",
   "execution_count": 9,
   "id": "ee28e6b4-9a26-4453-9a00-b4368e924014",
   "metadata": {},
   "outputs": [
    {
     "name": "stdout",
     "output_type": "stream",
     "text": [
      "10 20 30 40\n"
     ]
    }
   ],
   "source": [
    "a,b,c,d = 10,20,30,40\n",
    "print(a,b,c,d)"
   ]
  },
  {
   "cell_type": "markdown",
   "id": "cb091880-5c4e-4aa3-90fd-e49c6e9c4204",
   "metadata": {},
   "source": [
    "## EXCERCISE-4\n",
    "### Python Variables - Exercise #4\n",
    "### On the same line, create four new variables: a, b, c, and d, that are equal to 10, 20, 30, and 40, respectively.\n",
    "### Tell the computer to show you the value corresponding to the variable b.\n",
    "### Do the same for d."
   ]
  },
  {
   "cell_type": "code",
   "execution_count": 11,
   "id": "60961930-ceac-4744-9c1d-60e8fc0fa940",
   "metadata": {},
   "outputs": [
    {
     "name": "stdout",
     "output_type": "stream",
     "text": [
      "10\n",
      "40\n"
     ]
    }
   ],
   "source": [
    "a,b,c,d = 10,20,30,40\n",
    "print(a)\n",
    "print(d)"
   ]
  },
  {
   "cell_type": "markdown",
   "id": "01492d3f-c4ef-43f5-a032-9278ccd6c924",
   "metadata": {},
   "source": [
    "## EXCERCISE-5\n",
    "### Numbers and Boolean Values - Exercise #1\n",
    "### Create a variable a equal to \"True\".\n",
    "### Check its type."
   ]
  },
  {
   "cell_type": "code",
   "execution_count": 12,
   "id": "c8ff5252-1038-46c5-bc57-afc9fa4c6e79",
   "metadata": {},
   "outputs": [
    {
     "data": {
      "text/plain": [
       "bool"
      ]
     },
     "execution_count": 12,
     "metadata": {},
     "output_type": "execute_result"
    }
   ],
   "source": [
    "a = True\n",
    "type(a)"
   ]
  },
  {
   "cell_type": "markdown",
   "id": "b93a9fd9-abf9-4435-85c8-a6d8157b289c",
   "metadata": {},
   "source": [
    "## Numbers and Boolean Values - Exercise #2\n",
    "### Create a variable b equal to 99.\n",
    "### Check its type."
   ]
  },
  {
   "cell_type": "code",
   "execution_count": 13,
   "id": "8fc4ed53-3aa3-480f-84ce-38a49ea6ccd1",
   "metadata": {},
   "outputs": [
    {
     "data": {
      "text/plain": [
       "int"
      ]
     },
     "execution_count": 13,
     "metadata": {},
     "output_type": "execute_result"
    }
   ],
   "source": [
    "b = 99\n",
    "type(b)"
   ]
  },
  {
   "cell_type": "markdown",
   "id": "faeeb117-358c-4be7-8882-7058f6550a80",
   "metadata": {},
   "source": [
    "## EXCERCISE-6\n",
    "### Numbers and Boolean Values - Exercise #3\n",
    "### Check the type of the value 0.99."
   ]
  },
  {
   "cell_type": "code",
   "execution_count": 14,
   "id": "1378c966-0f23-4041-bcbc-206af3c4f697",
   "metadata": {},
   "outputs": [
    {
     "data": {
      "text/plain": [
       "float"
      ]
     },
     "execution_count": 14,
     "metadata": {},
     "output_type": "execute_result"
    }
   ],
   "source": [
    "type(0.99)"
   ]
  },
  {
   "cell_type": "markdown",
   "id": "9d8fe84f-4325-4d2d-80a1-b71fc4ecb3de",
   "metadata": {},
   "source": [
    "## EXCERCISE-7\n",
    "### Numbers and Boolean Values - Exercise #4\n",
    "### Create a variable b equal to 99.\n",
    "### Turn b into a float.\n",
    "### Consider using the print() function as a tool to help you solve this exercise."
   ]
  },
  {
   "cell_type": "code",
   "execution_count": 17,
   "id": "9eff6970-e0ed-48a4-90c6-1dc3e19645fd",
   "metadata": {},
   "outputs": [
    {
     "name": "stdout",
     "output_type": "stream",
     "text": [
      "<class 'float'>\n"
     ]
    }
   ],
   "source": [
    "b = 99.0\n",
    "print(type(b))"
   ]
  },
  {
   "cell_type": "markdown",
   "id": "925a4212-04f5-4509-a3d1-0c0a93966496",
   "metadata": {},
   "source": [
    "## EXCERCISE-8\n",
    "### Numbers and Boolean Values - Exercise #5\n",
    "### Turn 0.99 into an integer."
   ]
  },
  {
   "cell_type": "code",
   "execution_count": 18,
   "id": "185c02da-43f5-4bbb-b980-4a5bbe5e8d7d",
   "metadata": {},
   "outputs": [
    {
     "data": {
      "text/plain": [
       "0"
      ]
     },
     "execution_count": 18,
     "metadata": {},
     "output_type": "execute_result"
    }
   ],
   "source": [
    "int(0.99)"
   ]
  },
  {
   "cell_type": "markdown",
   "id": "877e2a9c-2312-408d-ba6c-8d57bc078487",
   "metadata": {},
   "source": [
    "## EXCERCISE-9\n",
    "### Strings - Exercise #1\n",
    "### Assign the value of 100 to the variable m.\n",
    "### With the help of the variable m, write one line of code where the output after execution would be 100 days.\n",
    "### Hint: You could provide four answers to this question!"
   ]
  },
  {
   "cell_type": "code",
   "execution_count": 19,
   "id": "67121cfc-c90b-48d5-af37-1324e0f548b1",
   "metadata": {},
   "outputs": [
    {
     "name": "stdout",
     "output_type": "stream",
     "text": [
      "100 days\n"
     ]
    }
   ],
   "source": [
    "m = 100\n",
    "print(str(m), \"days\")"
   ]
  },
  {
   "cell_type": "markdown",
   "id": "856d4a43-dcad-424a-b1a7-db99e1422548",
   "metadata": {},
   "source": [
    "## EXCERCISE-10\n",
    "### Strings - Exercise #2\n",
    "### Produce an output equal to It's cool, isn't it? ."
   ]
  },
  {
   "cell_type": "code",
   "execution_count": 20,
   "id": "3407a3e0-64fa-43b5-9402-21092e500e7e",
   "metadata": {},
   "outputs": [
    {
     "name": "stdout",
     "output_type": "stream",
     "text": [
      "It's cool, isn't it?\n"
     ]
    }
   ],
   "source": [
    "print(\"It's cool, isn't it?\")"
   ]
  },
  {
   "cell_type": "markdown",
   "id": "423cf845-8b2c-495b-b2bc-e73b9c8f6133",
   "metadata": {},
   "source": [
    "## EXCERCISE-11\n",
    "### Strings - Exercise #3\n",
    "### Fix the string below.\n",
    "### 'Don't be shy"
   ]
  },
  {
   "cell_type": "code",
   "execution_count": 21,
   "id": "be035092-f18c-4b80-a8d9-c10f9b5acd8b",
   "metadata": {},
   "outputs": [
    {
     "name": "stdout",
     "output_type": "stream",
     "text": [
      "Don't be shy\n"
     ]
    }
   ],
   "source": [
    "print('Don\\'t be shy')"
   ]
  },
  {
   "cell_type": "markdown",
   "id": "4bcd1d5d-61f4-4a22-8586-2b41eef02a7e",
   "metadata": {},
   "source": [
    "## EXCERCISE-12\n",
    "### Strings - Exercise #4\n",
    "### Produce an output equal to Click \"OK\"."
   ]
  },
  {
   "cell_type": "code",
   "execution_count": 24,
   "id": "6883782c-f93e-47ae-95e0-b9bbed0343b1",
   "metadata": {},
   "outputs": [
    {
     "name": "stdout",
     "output_type": "stream",
     "text": [
      "Click \"OK\"\n"
     ]
    }
   ],
   "source": [
    "print(\"Click \\\"OK\\\"\")"
   ]
  },
  {
   "cell_type": "markdown",
   "id": "e63915f2-d32b-43d9-9755-7bbedb666f62",
   "metadata": {},
   "source": [
    "## EXCERCISE-13\n",
    "### Strings - Exercise #5\n",
    "### Include a plus sign in your line of code to produce 'Big Houses'.\n",
    "### Include a trailing comma in your line of code to produce Big Houses.\n",
    "### Please note: The output you produce should consist of two lines of code, each of which generates the same result."
   ]
  },
  {
   "cell_type": "code",
   "execution_count": 26,
   "id": "17102798-4749-4edd-b9bf-dc8181f1ac85",
   "metadata": {},
   "outputs": [
    {
     "name": "stdout",
     "output_type": "stream",
     "text": [
      "BigHouses\n"
     ]
    }
   ],
   "source": [
    "\"Big\" + \"Houses\"\n",
    "print(\"Big\" + \"Houses\")"
   ]
  },
  {
   "cell_type": "markdown",
   "id": "9ed1125c-f7c3-4d6d-bcc1-50c4c2041b3c",
   "metadata": {},
   "source": [
    "## EXCERCISE-14\n",
    "### Arithmetic Operators - Exercise #1\n",
    "### Combine 15 and 23."
   ]
  },
  {
   "cell_type": "code",
   "execution_count": 1,
   "id": "cbd15b47-f3c5-4a54-86c1-20f4c68d4f0e",
   "metadata": {},
   "outputs": [
    {
     "data": {
      "text/plain": [
       "38"
      ]
     },
     "execution_count": 1,
     "metadata": {},
     "output_type": "execute_result"
    }
   ],
   "source": [
    "15 + 23"
   ]
  },
  {
   "cell_type": "markdown",
   "id": "6c978904-ac6a-4007-9fba-f5e2a078ab0a",
   "metadata": {},
   "source": [
    "## EXCERCISE-15\n",
    "### Arithmetic Operators - Exercise #2\n",
    "### Subtract 50 from 26."
   ]
  },
  {
   "cell_type": "code",
   "execution_count": 3,
   "id": "4289175f-a32f-41ff-9797-c5b02b0af64a",
   "metadata": {},
   "outputs": [
    {
     "data": {
      "text/plain": [
       "-24"
      ]
     },
     "execution_count": 3,
     "metadata": {},
     "output_type": "execute_result"
    }
   ],
   "source": [
    "26 - 50"
   ]
  },
  {
   "cell_type": "markdown",
   "id": "e70e3203-a155-4cdc-8a89-7f87c25a29e4",
   "metadata": {},
   "source": [
    "## EXCERCISE-16\n",
    "### Arithmetic Operators - Exercise #3\n",
    "### Divide 20 by 4."
   ]
  },
  {
   "cell_type": "code",
   "execution_count": 4,
   "id": "3b4abf77-6c78-49eb-b45f-892b39a8a76f",
   "metadata": {},
   "outputs": [
    {
     "data": {
      "text/plain": [
       "5.0"
      ]
     },
     "execution_count": 4,
     "metadata": {},
     "output_type": "execute_result"
    }
   ],
   "source": [
    "20 / 4"
   ]
  },
  {
   "cell_type": "markdown",
   "id": "59c6bfbc-df6c-45e3-861a-d8ff1a3e0988",
   "metadata": {},
   "source": [
    "## EXCERCISE-17\n",
    "### Arithmetic Operators - Exercise #4\n",
    "### Divide 22 by 4."
   ]
  },
  {
   "cell_type": "code",
   "execution_count": 5,
   "id": "be550001-d0f8-4acb-8863-b7a0a4ce4132",
   "metadata": {},
   "outputs": [
    {
     "data": {
      "text/plain": [
       "5.5"
      ]
     },
     "execution_count": 5,
     "metadata": {},
     "output_type": "execute_result"
    }
   ],
   "source": [
    "22 / 4"
   ]
  },
  {
   "cell_type": "markdown",
   "id": "fe8fe461-6ec9-4c12-a921-9bbea881671b",
   "metadata": {},
   "source": [
    "## EXCERCISE-18\n",
    "### Arithmetic Operators - Exercise #5\n",
    "### Obtain the remainder of the division of 22 by 4."
   ]
  },
  {
   "cell_type": "code",
   "execution_count": 6,
   "id": "7e3dff65-1c25-49bb-b032-1304e2d7cc71",
   "metadata": {},
   "outputs": [
    {
     "data": {
      "text/plain": [
       "2"
      ]
     },
     "execution_count": 6,
     "metadata": {},
     "output_type": "execute_result"
    }
   ],
   "source": [
    "22 % 4"
   ]
  },
  {
   "cell_type": "markdown",
   "id": "107bbdc0-9362-456b-bc28-499df6c6c7ce",
   "metadata": {},
   "source": [
    "## EXCERCISE-19\n",
    "### Arithmetic Operators - Exercise #6\n",
    "### Divide the float 22 by 4."
   ]
  },
  {
   "cell_type": "code",
   "execution_count": 7,
   "id": "6ac172a4-fe0a-481f-9734-d6d7b3b64ea8",
   "metadata": {},
   "outputs": [
    {
     "data": {
      "text/plain": [
       "5.5"
      ]
     },
     "execution_count": 7,
     "metadata": {},
     "output_type": "execute_result"
    }
   ],
   "source": [
    "float(22)/4"
   ]
  },
  {
   "cell_type": "markdown",
   "id": "7570e980-8ec0-46ba-95e1-dee335ab601c",
   "metadata": {},
   "source": [
    "## EXCERCISE-20\n",
    "### Arithmetic Operators - Exercise #7\n",
    "### Multiply 6 by 8."
   ]
  },
  {
   "cell_type": "code",
   "execution_count": 8,
   "id": "59448369-133c-4d0a-a838-0ee58f274c97",
   "metadata": {},
   "outputs": [
    {
     "data": {
      "text/plain": [
       "48"
      ]
     },
     "execution_count": 8,
     "metadata": {},
     "output_type": "execute_result"
    }
   ],
   "source": [
    "6 * 8"
   ]
  },
  {
   "cell_type": "markdown",
   "id": "299a5091-294c-491b-a9ea-9db07ecce124",
   "metadata": {},
   "source": [
    "## EXCERCISE-21\n",
    "### Arithmetic Operators - Exercise #8\n",
    "### Raise 15 to the power of 2."
   ]
  },
  {
   "cell_type": "code",
   "execution_count": 9,
   "id": "3ab552f0-8e03-448c-8fb4-0d845eaf250d",
   "metadata": {},
   "outputs": [
    {
     "data": {
      "text/plain": [
       "225"
      ]
     },
     "execution_count": 9,
     "metadata": {},
     "output_type": "execute_result"
    }
   ],
   "source": [
    "15 ** 2"
   ]
  },
  {
   "cell_type": "markdown",
   "id": "1589d062-7cad-48f9-be08-a81cf5221d67",
   "metadata": {},
   "source": [
    "## EXCERCISE-22\n",
    "### The Double Equality Sign - Exercise #1\n",
    "### Demonstrate that 100 is not equal to 98."
   ]
  },
  {
   "cell_type": "code",
   "execution_count": 10,
   "id": "bd52366d-34b9-43f3-8a81-5a6b0d7cb567",
   "metadata": {},
   "outputs": [
    {
     "data": {
      "text/plain": [
       "False"
      ]
     },
     "execution_count": 10,
     "metadata": {},
     "output_type": "execute_result"
    }
   ],
   "source": [
    "x = 100\n",
    "x == 98"
   ]
  },
  {
   "cell_type": "markdown",
   "id": "dcbab191-bd37-4704-8a08-e59d19b2d7ba",
   "metadata": {},
   "source": [
    "## EXCERCISE-23\n",
    "### Reassign Values - Exercise #1\n",
    "### Assign the value of 14 to a variable p."
   ]
  },
  {
   "cell_type": "code",
   "execution_count": 11,
   "id": "430b14d1-4333-4cb1-a7df-96ff14b64f9a",
   "metadata": {},
   "outputs": [],
   "source": [
    "p = 14"
   ]
  },
  {
   "cell_type": "markdown",
   "id": "a52b40cd-7bdd-47fd-b1fe-4f85898376f0",
   "metadata": {},
   "source": [
    "## EXCERCISE-24\n",
    "### Reassign Values - Exercise #2\n",
    "### Assign the value of 14 to a variable p.\n",
    "### Calculate p + 10."
   ]
  },
  {
   "cell_type": "code",
   "execution_count": 12,
   "id": "095fe20c-8ed3-48ca-93db-89217fefc915",
   "metadata": {},
   "outputs": [
    {
     "data": {
      "text/plain": [
       "24"
      ]
     },
     "execution_count": 12,
     "metadata": {},
     "output_type": "execute_result"
    }
   ],
   "source": [
    "p = 14\n",
    "p + 10"
   ]
  },
  {
   "cell_type": "markdown",
   "id": "35b204ad-0d82-437d-b047-a107b9956fae",
   "metadata": {},
   "source": [
    "## EXCERCISE-25\n",
    "### Reassign Values - Exercise #3\n",
    "### Now, assign 30 to the variable p."
   ]
  },
  {
   "cell_type": "code",
   "execution_count": 15,
   "id": "342be2ed-6ec3-4e50-be22-417d5bfe2b64",
   "metadata": {},
   "outputs": [],
   "source": [
    "p = 30"
   ]
  },
  {
   "cell_type": "markdown",
   "id": "a5bea1b7-f6e8-4b7d-8292-5b6372dd4d64",
   "metadata": {},
   "source": [
    "## EXCERCISE-26\n",
    "### Reassign Values - Exercise #4\n",
    "### Calculate p + 10."
   ]
  },
  {
   "cell_type": "code",
   "execution_count": 17,
   "id": "9bd89a61-af77-43dc-8d5b-027503198077",
   "metadata": {},
   "outputs": [
    {
     "data": {
      "text/plain": [
       "40"
      ]
     },
     "execution_count": 17,
     "metadata": {},
     "output_type": "execute_result"
    }
   ],
   "source": [
    "P = 30\n",
    "P + 10"
   ]
  },
  {
   "cell_type": "markdown",
   "id": "cbdb5a36-2842-4893-a769-5ceeaad430d0",
   "metadata": {},
   "source": [
    "## EXCERCISE-27\n",
    "### Line Continuation - Exercise #1\n",
    "### Add a backslash in the code below, so it is a one-line code. Observe the change in the result.\n",
    "\n",
    "### 15 + 31\n",
    "### - 26"
   ]
  },
  {
   "cell_type": "code",
   "execution_count": 18,
   "id": "2c93753b-04ff-482d-8537-44cf5e298586",
   "metadata": {},
   "outputs": [
    {
     "data": {
      "text/plain": [
       "20"
      ]
     },
     "execution_count": 18,
     "metadata": {},
     "output_type": "execute_result"
    }
   ],
   "source": [
    "15 + 31 \\\n",
    "- 26"
   ]
  },
  {
   "cell_type": "markdown",
   "id": "36bd11b6-e4d8-4d80-8c63-b3b01e2aa9b1",
   "metadata": {},
   "source": [
    "## EXCERCISE-28\n",
    "### Indexing Elements - Exercise #1\n",
    "### Extract the letter 'B' from \"Bingo!\"."
   ]
  },
  {
   "cell_type": "code",
   "execution_count": 19,
   "id": "92e2e3d1-2fa8-478f-a215-46fe5fa07790",
   "metadata": {},
   "outputs": [
    {
     "data": {
      "text/plain": [
       "'B'"
      ]
     },
     "execution_count": 19,
     "metadata": {},
     "output_type": "execute_result"
    }
   ],
   "source": [
    "\"Bingo!\"[0]"
   ]
  },
  {
   "cell_type": "markdown",
   "id": "d0356a4b-a900-4f5b-8abc-8350778ba5c5",
   "metadata": {},
   "source": [
    "## EXCERCISE-29\n",
    "### Indexing Elements - Exercise #2\n",
    "### Extract the letter \"u\" from \"Constitution\"."
   ]
  },
  {
   "cell_type": "code",
   "execution_count": 20,
   "id": "5e70714b-a870-4bd0-839a-d8f84f76c45d",
   "metadata": {},
   "outputs": [
    {
     "data": {
      "text/plain": [
       "'u'"
      ]
     },
     "execution_count": 20,
     "metadata": {},
     "output_type": "execute_result"
    }
   ],
   "source": [
    "\"Constitution\"[7]"
   ]
  },
  {
   "cell_type": "markdown",
   "id": "86f77ba2-69a3-49af-addd-4f784ee4b817",
   "metadata": {},
   "source": [
    "## EXCERCISE-30\n",
    "### Indentation - Exercise #1\n",
    "### Use indentation properly to print the result of a function called ten() with any argument of x."
   ]
  },
  {
   "cell_type": "code",
   "execution_count": 21,
   "id": "7bf8fb20-094a-47da-83c2-16d5f2830210",
   "metadata": {},
   "outputs": [
    {
     "name": "stdout",
     "output_type": "stream",
     "text": [
      "10\n"
     ]
    }
   ],
   "source": [
    "def ten(x):\n",
    "    x = 10\n",
    "    return x\n",
    "print (ten(3))"
   ]
  },
  {
   "cell_type": "markdown",
   "id": "c2496da3-ff07-42aa-b253-7bb8ab31442b",
   "metadata": {},
   "source": [
    "## EXCERCISE-31\n",
    "### Comparison Operators - Exercise #1\n",
    "### Verify that 25 is smaller than 30."
   ]
  },
  {
   "cell_type": "code",
   "execution_count": 22,
   "id": "2e0b9a2c-731b-4824-aa30-179fa303bed0",
   "metadata": {},
   "outputs": [
    {
     "data": {
      "text/plain": [
       "True"
      ]
     },
     "execution_count": 22,
     "metadata": {},
     "output_type": "execute_result"
    }
   ],
   "source": [
    "25 < 30"
   ]
  },
  {
   "cell_type": "markdown",
   "id": "07c512b6-2560-4123-98b9-09297820d15f",
   "metadata": {},
   "source": [
    "## EXCERCISE-32\n",
    "### Comparison Operators - Exercise #2\n",
    "### Verify that 5 multiplied by 3 is less than or equal to 5 to the power of 3."
   ]
  },
  {
   "cell_type": "code",
   "execution_count": 23,
   "id": "4b952d8e-612f-4bfa-901c-5913cbc6aee9",
   "metadata": {},
   "outputs": [
    {
     "data": {
      "text/plain": [
       "True"
      ]
     },
     "execution_count": 23,
     "metadata": {},
     "output_type": "execute_result"
    }
   ],
   "source": [
    "5 * 3 <= 5 ** 3 "
   ]
  },
  {
   "cell_type": "markdown",
   "id": "1b2ba922-0315-4126-9fde-abef6e418264",
   "metadata": {},
   "source": [
    "## EXCERCISE-33\n",
    "### Comparison Operators - Exercise #3\n",
    "### Verify that 100 is equal to 10 square."
   ]
  },
  {
   "cell_type": "code",
   "execution_count": 25,
   "id": "e11c4f97-6db0-4308-b7ab-f9b2c2b7f1ff",
   "metadata": {},
   "outputs": [
    {
     "data": {
      "text/plain": [
       "True"
      ]
     },
     "execution_count": 25,
     "metadata": {},
     "output_type": "execute_result"
    }
   ],
   "source": [
    "100 == 10 ** 2"
   ]
  },
  {
   "cell_type": "markdown",
   "id": "400271b9-0b39-4d02-9520-e3c6af7172cd",
   "metadata": {},
   "source": [
    "## EXCERCISE-34\n",
    "### Comparison Operators - Exercise #4\n",
    "### Verify that 53 is not equal to 46."
   ]
  },
  {
   "cell_type": "code",
   "execution_count": 26,
   "id": "c7a27996-b731-41e6-8e1c-93d96226afce",
   "metadata": {},
   "outputs": [
    {
     "data": {
      "text/plain": [
       "True"
      ]
     },
     "execution_count": 26,
     "metadata": {},
     "output_type": "execute_result"
    }
   ],
   "source": [
    "53 != 46"
   ]
  },
  {
   "cell_type": "markdown",
   "id": "e93288f0-ca5d-4017-b8f2-fb4481c870c3",
   "metadata": {},
   "source": [
    "## EXCERCISE-35\n",
    "### Logical and Identity Operators - Exercise #1\n",
    "### Check whether the following code is True or False.\n",
    "### False or not True and not False\n",
    "\n"
   ]
  },
  {
   "cell_type": "code",
   "execution_count": 1,
   "id": "baac8f3e-912d-4f2b-a146-23bf2fd19c6a",
   "metadata": {},
   "outputs": [
    {
     "data": {
      "text/plain": [
       "False"
      ]
     },
     "execution_count": 1,
     "metadata": {},
     "output_type": "execute_result"
    }
   ],
   "source": [
    "False or not True and not False"
   ]
  },
  {
   "cell_type": "markdown",
   "id": "b7344c7e-1da0-403f-a559-2668f93eaf08",
   "metadata": {},
   "source": [
    "## EXCERCISE-36\n",
    "### Logical and Identity Operators - Exercise #2\n",
    "### Check whether the following code is True or False.\n",
    "### True and not False and True or not False"
   ]
  },
  {
   "cell_type": "code",
   "execution_count": 2,
   "id": "a79d97df-2feb-4b91-b0b2-641b73a39e96",
   "metadata": {},
   "outputs": [
    {
     "data": {
      "text/plain": [
       "True"
      ]
     },
     "execution_count": 2,
     "metadata": {},
     "output_type": "execute_result"
    }
   ],
   "source": [
    "True and not False and True or not False"
   ]
  },
  {
   "cell_type": "markdown",
   "id": "0f2d1351-a616-4b10-b53a-bce4a2b1e96b",
   "metadata": {},
   "source": [
    "## EXCERCISE-37\n",
    "### Logical and Identity Operators - Exercise #3\n",
    "### Check whether the following code is True or False.\n",
    "### True or False and False"
   ]
  },
  {
   "cell_type": "code",
   "execution_count": 3,
   "id": "a87f5b11-e986-4944-9df4-db0a6ad1da2c",
   "metadata": {},
   "outputs": [
    {
     "data": {
      "text/plain": [
       "True"
      ]
     },
     "execution_count": 3,
     "metadata": {},
     "output_type": "execute_result"
    }
   ],
   "source": [
    "True or False and False"
   ]
  },
  {
   "cell_type": "markdown",
   "id": "560d5740-64b2-4458-8935-5aff41176388",
   "metadata": {},
   "source": [
    "## EXCERCISE-38\n",
    "### Logical and Identity Operators - Exercise #4\n",
    "### Check whether the following code is True or False.\n",
    "### False and True or False"
   ]
  },
  {
   "cell_type": "code",
   "execution_count": 4,
   "id": "ce737ba0-d83b-4d44-8f7b-84688d672816",
   "metadata": {},
   "outputs": [
    {
     "data": {
      "text/plain": [
       "False"
      ]
     },
     "execution_count": 4,
     "metadata": {},
     "output_type": "execute_result"
    }
   ],
   "source": [
    "False and True or False"
   ]
  },
  {
   "cell_type": "markdown",
   "id": "2b82b6f9-e316-408f-a0c6-46b02d5c30cf",
   "metadata": {},
   "source": [
    "## EXCERCISE-39\n",
    "### Logical and Identity Operators - Exercise #5\n",
    "### Using an identity operator, verify that 10 is not the same as 12."
   ]
  },
  {
   "cell_type": "code",
   "execution_count": 7,
   "id": "c73d96a7-234c-406f-9df1-e6a1d4516d9b",
   "metadata": {},
   "outputs": [
    {
     "name": "stdout",
     "output_type": "stream",
     "text": [
      "False\n"
     ]
    }
   ],
   "source": [
    "print(10 != 12)"
   ]
  },
  {
   "cell_type": "markdown",
   "id": "4b743dde-c0b1-409e-b7c8-721a5dc27954",
   "metadata": {},
   "source": [
    "## EXCERCISE-40\n",
    "### Logical and Identity Operators - Exercise #6\n",
    "### Using an identity operator, verify that 50 is the same as 50."
   ]
  },
  {
   "cell_type": "code",
   "execution_count": 9,
   "id": "31b51f5c-cde0-419f-b7c8-324e2eba23b2",
   "metadata": {},
   "outputs": [
    {
     "name": "stderr",
     "output_type": "stream",
     "text": [
      "<>:1: SyntaxWarning: \"is\" with a literal. Did you mean \"==\"?\n",
      "<>:1: SyntaxWarning: \"is\" with a literal. Did you mean \"==\"?\n",
      "/var/folders/0y/6vqz_hlj1t13llqtxyrlx3rh0000gn/T/ipykernel_1227/4077015830.py:1: SyntaxWarning: \"is\" with a literal. Did you mean \"==\"?\n",
      "  50 is 50\n"
     ]
    },
    {
     "data": {
      "text/plain": [
       "True"
      ]
     },
     "execution_count": 9,
     "metadata": {},
     "output_type": "execute_result"
    }
   ],
   "source": [
    "50 is 50"
   ]
  },
  {
   "cell_type": "markdown",
   "id": "395d4628-58cc-42b5-a35c-2b1cc2860647",
   "metadata": {},
   "source": [
    "## EXCERCISE-41\n",
    "### The IF Statement - Exercise #1\n",
    "### Create a two-line code that prints \"The condition has been satisfied\" if 5 is greater than 2."
   ]
  },
  {
   "cell_type": "code",
   "execution_count": 11,
   "id": "021c51b3-d81f-4026-a2f0-652b7178da6d",
   "metadata": {},
   "outputs": [
    {
     "name": "stdout",
     "output_type": "stream",
     "text": [
      "The condition has been satisfied\n"
     ]
    }
   ],
   "source": [
    "if 5 > 2:\n",
    "    print(\"The condition has been satisfied\")"
   ]
  },
  {
   "cell_type": "markdown",
   "id": "00779715-fc15-4980-ab24-a013146238f5",
   "metadata": {},
   "source": [
    "## EXCERCISE-42\n",
    "#### The IF Statement - Exercise #2\n",
    "#### Assign 10 to the variable x and 25 to the variable y. In the same cell, create 2 conditional statements. Let the first one print \"Both conditions are correct\" if x is greater then 3 and y is greater than 13. Let the second one print \"At least one of the conditions is false\" if x is less than or equal to 3 or y is less than or equal to 13. Change the values assigned to x and y and re-run the cell to verify your code still works."
   ]
  },
  {
   "cell_type": "code",
   "execution_count": 12,
   "id": "8dda4f32-7f44-4c98-8390-0374f7eb4260",
   "metadata": {},
   "outputs": [
    {
     "name": "stdout",
     "output_type": "stream",
     "text": [
      "Both conditions are correct\n"
     ]
    }
   ],
   "source": [
    "x, y = 10, 25\n",
    "if x > 3 and y > 13:\n",
    "    print(\"Both conditions are correct\")\n",
    "if x <= 3 or y <= 13:\n",
    "    print(\"At least one of the conditions is false\")"
   ]
  },
  {
   "cell_type": "markdown",
   "id": "c42463e7-75d6-4116-93d2-ea4de3f43721",
   "metadata": {},
   "source": [
    "## EXCERCISE-43\n",
    "#### The ELSE Statement - Exercise #1\n",
    "#### Let x represent the number of orders received during a certain day. Create a program that prints \"A busy day\" if x is greater than 100, and \"A calm day\" otherwise."
   ]
  },
  {
   "cell_type": "code",
   "execution_count": 13,
   "id": "17242cf8-b5a4-493a-a299-d739ad302d53",
   "metadata": {},
   "outputs": [
    {
     "name": "stdout",
     "output_type": "stream",
     "text": [
      "A calm day\n"
     ]
    }
   ],
   "source": [
    "if x > 100:\n",
    "    print(\"A busy day\")\n",
    "else:\n",
    "    print(\"A calm day\")"
   ]
  },
  {
   "cell_type": "markdown",
   "id": "0543ac20-22b2-40d9-a895-58274ff7a630",
   "metadata": {},
   "source": [
    "## EXCERCISE-44\n",
    "#### The ELIF Statement - Exercise #1\n",
    "#### Create the following piece of code: If x > 200, print out \"Big\"; If x > 100 and x <= 200, print out \"Average\"; and If x <= 100, print out \"Small\". Use the if, elif, and else keywords in your code."
   ]
  },
  {
   "cell_type": "code",
   "execution_count": 14,
   "id": "6f305a75-5776-47fb-b72d-9eefde179185",
   "metadata": {},
   "outputs": [
    {
     "name": "stdout",
     "output_type": "stream",
     "text": [
      "Average\n"
     ]
    }
   ],
   "source": [
    "x = 150\n",
    "if x > 200:\n",
    "    print(\"Big\")\n",
    "elif x > 100 and x <= 200:\n",
    "    print(\"Average\")\n",
    "else:\n",
    "    print(\"Small\")"
   ]
  },
  {
   "cell_type": "markdown",
   "id": "b8710f1c-79ba-42bc-b393-bb94ab40ce9c",
   "metadata": {},
   "source": [
    "## EXCERCISE-45\n",
    "#### The ELIF Statement - Exercise #2\n",
    "#### Keep the first two conditions of the code from the previous exercise (if x > 200, print out \"Big\"; If x > 100 and x <= 200, print out \"Average\").Add a new elif statement, so that, eventually, the program prints \"Small\" if x >= 0 and x <= 100, and \"Negative\" if x < 0."
   ]
  },
  {
   "cell_type": "code",
   "execution_count": 15,
   "id": "bef64e84-955c-49f0-9f75-75f989b62f22",
   "metadata": {},
   "outputs": [
    {
     "name": "stdout",
     "output_type": "stream",
     "text": [
      "Average\n"
     ]
    }
   ],
   "source": [
    "x = 200\n",
    "\n",
    "if x > 200: \n",
    "    print (\"Big\")\n",
    "elif x > 100 and x <= 200:\n",
    "    print (\"Average\")\n",
    "elif x >= 0 and x <= 100:\n",
    "    print(\"Small\")\n",
    "else:\n",
    "    print(\"Negative\")"
   ]
  },
  {
   "cell_type": "markdown",
   "id": "df23f062-fd19-4efd-aa54-cfd237d9eadf",
   "metadata": {},
   "source": [
    "## EXCERCISE-46\n",
    "#### Creating a Function with a Parameter - Exercise #1\n",
    "#### Define a function called multiplication_by_2(x) that returns a value equal to its argument multiplied by 2."
   ]
  },
  {
   "cell_type": "code",
   "execution_count": 16,
   "id": "4b2b0c46-7d3b-422b-ae1e-26ada5f68290",
   "metadata": {},
   "outputs": [
    {
     "data": {
      "text/plain": [
       "4"
      ]
     },
     "execution_count": 16,
     "metadata": {},
     "output_type": "execute_result"
    }
   ],
   "source": [
    "def multiplication_by_2(x):\n",
    "    return x * 2\n",
    "\n",
    "multiplication_by_2(2)"
   ]
  },
  {
   "cell_type": "markdown",
   "id": "612130b3-9ed8-4eab-80c0-4f248e5dfd99",
   "metadata": {},
   "source": [
    "## EXCERCISE-47\n",
    "#### Creating a Function with a Parameter - Exercise #2\n",
    "#### Define a function called division_by_2(x) that returns a float value equal to its argument divided by 2."
   ]
  },
  {
   "cell_type": "code",
   "execution_count": 17,
   "id": "0684aa45-87e4-4601-a92f-065f7ced624e",
   "metadata": {},
   "outputs": [
    {
     "data": {
      "text/plain": [
       "1.0"
      ]
     },
     "execution_count": 17,
     "metadata": {},
     "output_type": "execute_result"
    }
   ],
   "source": [
    "def division_by_2(x):\n",
    "    return float(x / 2)\n",
    "division_by_2(2)"
   ]
  },
  {
   "cell_type": "markdown",
   "id": "2e4ddf37-7804-4f4e-aaa8-5b55617f1a11",
   "metadata": {},
   "source": [
    "## EXCERCISE-48\n",
    "#### Another Way to Define a Function - Exercise #1\n",
    "#### Define a function called exponentiation_exp_2(x) that states the value of the argument accompanied by the phrase \"Raised to the power of 2:\" and returns a value equal to its argument raised to the power of 2. This time, use a new variable, called result, in the body of the Function. Call the function with some argument to verify it works properly.\n",
    "\n"
   ]
  },
  {
   "cell_type": "code",
   "execution_count": 19,
   "id": "90d3a1ae-35cb-4e43-bf97-70720479fe01",
   "metadata": {},
   "outputs": [
    {
     "name": "stdout",
     "output_type": "stream",
     "text": [
      "2 Raised to the power of 2:\n"
     ]
    },
    {
     "data": {
      "text/plain": [
       "4"
      ]
     },
     "execution_count": 19,
     "metadata": {},
     "output_type": "execute_result"
    }
   ],
   "source": [
    "def exponentiation_exp_2(x):\n",
    "    # Print the value of the argument accompanied by the phrase\n",
    "    print(f\"{x} Raised to the power of 2:\")\n",
    "    \n",
    "    # Calculate the result\n",
    "    result = x ** 2\n",
    "    \n",
    "    # Return the result\n",
    "    return result\n",
    "\n",
    "exponentiation_exp_2(2)"
   ]
  },
  {
   "cell_type": "markdown",
   "id": "78e0f019-92b4-4d0a-838f-5ba02ff14dda",
   "metadata": {},
   "source": [
    "## EXCERCISE-49\n",
    "#### Using a Function in Another Function - Exercise #1\n",
    "#### Define a function called plus_five() that adds 5 to its argument. Then, define another function named m_by_3() that multiplies the argument (the result obtained from plus_five()) by 3. Verify your code was correct by calling the second function with an argument of 5. Was your output equal to 30?"
   ]
  },
  {
   "cell_type": "code",
   "execution_count": 23,
   "id": "7ea07236-439a-40f9-b428-54ad2f78af2c",
   "metadata": {},
   "outputs": [
    {
     "name": "stdout",
     "output_type": "stream",
     "text": [
      "30\n"
     ]
    }
   ],
   "source": [
    "def plus_five(x):\n",
    "    return x + 5\n",
    "\n",
    "def m_by_3():\n",
    "    result = plus_five(5) * 3\n",
    "    return result\n",
    "result = m_by_3()\n",
    "print(result)"
   ]
  },
  {
   "cell_type": "markdown",
   "id": "40df3e02-a3ab-4eab-acb6-bd8f68000ccd",
   "metadata": {},
   "source": [
    "## EXCERCISE-50\n",
    "#### Conditional Statements and Functions - Exercise #1\n",
    "#### Define a function, called compare_the_two(), with two arguments. If the first one is greater than the second one, let it print \"Greater\". If the second one is greater, it should print \"Less\". Let it print \"Equal\" if the two values are the same number.\n",
    "\n"
   ]
  },
  {
   "cell_type": "code",
   "execution_count": 24,
   "id": "cdbd46ed-bcf2-42b3-8461-67f6b033306c",
   "metadata": {},
   "outputs": [],
   "source": [
    "def compare_the_two(a,b):\n",
    "    if a > b:\n",
    "        print(\"Greater\")\n",
    "    elif b > a:\n",
    "        print(\"Less\")\n",
    "    else:\n",
    "        print(\"Equal\")"
   ]
  },
  {
   "cell_type": "markdown",
   "id": "f55a6bba-46e1-43d6-a656-e01eb1d73af1",
   "metadata": {},
   "source": [
    "## EXCERCISE-51\n",
    "#### Notable Built-In Functions in Python - Exercise #1\n",
    "#### Obtain the maximum number among the values 25, 65, 890, and 15."
   ]
  },
  {
   "cell_type": "code",
   "execution_count": 1,
   "id": "7c2ad6ca-16de-44ed-8d2c-e480f3a9cc88",
   "metadata": {},
   "outputs": [
    {
     "data": {
      "text/plain": [
       "890"
      ]
     },
     "execution_count": 1,
     "metadata": {},
     "output_type": "execute_result"
    }
   ],
   "source": [
    "max(25, 65, 890, 15)"
   ]
  },
  {
   "cell_type": "markdown",
   "id": "4678acab-1442-4a11-88b7-f385f3d925d0",
   "metadata": {},
   "source": [
    "## EXCERCISE-52\n",
    "#### Notable Built-In Functions in Python - Exercise #2\n",
    "#### Obtain the minimum number among the values 25, 65, 890, and 15."
   ]
  },
  {
   "cell_type": "code",
   "execution_count": 2,
   "id": "f7a6f1d3-1425-44e6-b8d1-25ca6a73aff0",
   "metadata": {},
   "outputs": [
    {
     "data": {
      "text/plain": [
       "15"
      ]
     },
     "execution_count": 2,
     "metadata": {},
     "output_type": "execute_result"
    }
   ],
   "source": [
    "min(25, 65, 890, 15)"
   ]
  },
  {
   "cell_type": "markdown",
   "id": "8ac64953-8b77-4d61-a280-1f83921b8182",
   "metadata": {},
   "source": [
    "## EXCERCISE-53\n",
    "#### Notable Built-In Functions in Python - Exercise #3\n",
    "#### Find the absolute value of -100."
   ]
  },
  {
   "cell_type": "code",
   "execution_count": 3,
   "id": "a411d6fa-d02b-477a-b23d-cfd937f9feb6",
   "metadata": {},
   "outputs": [
    {
     "data": {
      "text/plain": [
       "100"
      ]
     },
     "execution_count": 3,
     "metadata": {},
     "output_type": "execute_result"
    }
   ],
   "source": [
    "abs(-100)"
   ]
  },
  {
   "cell_type": "markdown",
   "id": "3e628a5f-4f4a-4422-8883-19723dbde23a",
   "metadata": {},
   "source": [
    "## EXCERCISE-54\n",
    "#### Notable Built-In Functions in Python - Exercise #4\n",
    "#### Round the value of 55.5."
   ]
  },
  {
   "cell_type": "code",
   "execution_count": 4,
   "id": "e580bdaa-9a8e-4475-bdc6-b4778a2ed9d7",
   "metadata": {},
   "outputs": [
    {
     "data": {
      "text/plain": [
       "56"
      ]
     },
     "execution_count": 4,
     "metadata": {},
     "output_type": "execute_result"
    }
   ],
   "source": [
    "round(55.5)"
   ]
  },
  {
   "cell_type": "markdown",
   "id": "e5ce086e-38d4-415a-88e6-80087f3a5299",
   "metadata": {},
   "source": [
    "## EXCERCISE-55\n",
    "#### Notable Built-In Functions in Python - Exercise #5\n",
    "#### Round 35.56789 to the third digit."
   ]
  },
  {
   "cell_type": "code",
   "execution_count": 6,
   "id": "c986a6f4-3113-428d-b94a-a6c01065e617",
   "metadata": {},
   "outputs": [
    {
     "data": {
      "text/plain": [
       "35.568"
      ]
     },
     "execution_count": 6,
     "metadata": {},
     "output_type": "execute_result"
    }
   ],
   "source": [
    "round(35.56789,3)"
   ]
  },
  {
   "cell_type": "markdown",
   "id": "c1cd7c58-ec90-44a5-a958-739b590062a4",
   "metadata": {},
   "source": [
    "## EXCERCISE-56\n",
    "#### Notable Built-In Functions in Python - Exercise #6\n",
    "#### Find the sum of all elements in the provided list, called \"Numbers\"."
   ]
  },
  {
   "cell_type": "code",
   "execution_count": 8,
   "id": "e851d0da-7b5d-40c0-918c-bfb88170fde5",
   "metadata": {},
   "outputs": [
    {
     "data": {
      "text/plain": [
       "94.5"
      ]
     },
     "execution_count": 8,
     "metadata": {},
     "output_type": "execute_result"
    }
   ],
   "source": [
    "Numbers = [1, 5, 64, 24.5]\n",
    "sum(Numbers)"
   ]
  },
  {
   "cell_type": "markdown",
   "id": "c3dfd360-d855-4deb-9780-2ba8e9eef654",
   "metadata": {},
   "source": [
    "## EXCERCISE-57\n",
    "#### Notable Built-In Functions in Python - Exercise #7\n",
    "#### Use a built-in function to raise 10 to the power of 3."
   ]
  },
  {
   "cell_type": "code",
   "execution_count": 9,
   "id": "0632241c-c7a9-4353-86a2-a3f0041dfb39",
   "metadata": {},
   "outputs": [
    {
     "data": {
      "text/plain": [
       "1000"
      ]
     },
     "execution_count": 9,
     "metadata": {},
     "output_type": "execute_result"
    }
   ],
   "source": [
    "pow(10,3)"
   ]
  },
  {
   "cell_type": "markdown",
   "id": "d4ee4364-cb74-4ef7-9f8c-76b8e9093f55",
   "metadata": {},
   "source": [
    "## EXCERCISE-58\n",
    "#### Notable Built-In Functions in Python - Exercise #8 In one line of code, find how many characters there are in the word \"Elephant\"?"
   ]
  },
  {
   "cell_type": "code",
   "execution_count": 10,
   "id": "5488cc67-5f59-4e5f-a098-37a8aa5ba682",
   "metadata": {},
   "outputs": [
    {
     "data": {
      "text/plain": [
       "8"
      ]
     },
     "execution_count": 10,
     "metadata": {},
     "output_type": "execute_result"
    }
   ],
   "source": [
    "len(\"Elephant\")"
   ]
  },
  {
   "cell_type": "markdown",
   "id": "38c0de94-e352-4fd5-8460-66280abe10b5",
   "metadata": {},
   "source": [
    "## EXCERCISE-59\n",
    "#### Notable Built-In Functions in Python - Exercise #9\n",
    "#### Create a function, called distance_from_zero(), that returns the absolute value of a provided single argument and prints a statement \"Not possible\" if the argument provided is not a number. To solve the task, use the type() function in the body of distance_from_zero().\n",
    "\n",
    "#### Call the function with the values of -10 and \"cat\" to verify it works correctly."
   ]
  },
  {
   "cell_type": "code",
   "execution_count": 13,
   "id": "51e8ff4c-15f9-4cef-8cf0-6bcc7c368295",
   "metadata": {},
   "outputs": [
    {
     "data": {
      "text/plain": [
       "10"
      ]
     },
     "execution_count": 13,
     "metadata": {},
     "output_type": "execute_result"
    }
   ],
   "source": [
    "def distance_from_zero(input):\n",
    "    if type(input) != int:\n",
    "        print(\"Not possible\")\n",
    "        return\n",
    "    return abs(input)\n",
    "\n",
    "distance_from_zero(-10)"
   ]
  },
  {
   "cell_type": "code",
   "execution_count": 14,
   "id": "75f32748-2c34-488a-99aa-1d5b11eadbdd",
   "metadata": {},
   "outputs": [
    {
     "name": "stdout",
     "output_type": "stream",
     "text": [
      "Not possible\n"
     ]
    }
   ],
   "source": [
    "distance_from_zero(\"cat\")"
   ]
  },
  {
   "cell_type": "markdown",
   "id": "423279e0-39e4-422c-9bb4-1bcb29872158",
   "metadata": {},
   "source": [
    "## EXCERCISE-60\n",
    "#### Lists - Exercise #1\n",
    "#### Create a list, called Numbers. Let it contain the numbers 10, 25, 40, and 50.\n",
    "\n",
    "#### Print the element at index 2 from the list."
   ]
  },
  {
   "cell_type": "code",
   "execution_count": 15,
   "id": "b2b9dfad-09af-4239-89c0-2847ca52b9a6",
   "metadata": {},
   "outputs": [
    {
     "data": {
      "text/plain": [
       "40"
      ]
     },
     "execution_count": 15,
     "metadata": {},
     "output_type": "execute_result"
    }
   ],
   "source": [
    "Numbers = [10, 25, 40, 50]\n",
    "Numbers[2]"
   ]
  },
  {
   "cell_type": "markdown",
   "id": "5d18961a-bee3-4169-be4e-3c002c73d9cc",
   "metadata": {},
   "source": [
    "## EXCERCISE-61\n",
    "#### Lists - Exercise #2\n",
    "#### Print the 0th element from the Numbers list."
   ]
  },
  {
   "cell_type": "code",
   "execution_count": 16,
   "id": "8a116f86-b78b-4ce1-97e1-dbaa78d337de",
   "metadata": {},
   "outputs": [
    {
     "data": {
      "text/plain": [
       "10"
      ]
     },
     "execution_count": 16,
     "metadata": {},
     "output_type": "execute_result"
    }
   ],
   "source": [
    "Numbers = [10, 25, 40, 50]\n",
    "Numbers[0]"
   ]
  },
  {
   "cell_type": "markdown",
   "id": "334cee4c-6e42-4c23-aa33-2d2c9be200d8",
   "metadata": {},
   "source": [
    "## EXCERCISE-62\n",
    "#### Lists - Exercise #3\n",
    "#### Print the third-to-last element from the Numbers list using a minus sign in the brackets."
   ]
  },
  {
   "cell_type": "code",
   "execution_count": 18,
   "id": "b33320db-fcc4-4142-b48a-371950e4698b",
   "metadata": {},
   "outputs": [
    {
     "name": "stdout",
     "output_type": "stream",
     "text": [
      "25\n"
     ]
    }
   ],
   "source": [
    "Numbers = [10, 25, 40, 50]\n",
    "print(Numbers[-3])"
   ]
  },
  {
   "cell_type": "markdown",
   "id": "b49eb411-1ca8-484a-9317-371e08093694",
   "metadata": {},
   "source": [
    "## EXCERCISE-63\n",
    "#### Lists - Exercise #4\n",
    "#### Replace the number 10 with the number 15 in the Numbers list."
   ]
  },
  {
   "cell_type": "code",
   "execution_count": 19,
   "id": "6a65a2ba-28ea-4010-a835-332521e5651a",
   "metadata": {},
   "outputs": [
    {
     "data": {
      "text/plain": [
       "[15, 25, 40, 50]"
      ]
     },
     "execution_count": 19,
     "metadata": {},
     "output_type": "execute_result"
    }
   ],
   "source": [
    "Numbers = [10, 25, 40, 50]\n",
    "Numbers[0] = 15\n",
    "Numbers"
   ]
  },
  {
   "cell_type": "markdown",
   "id": "8545fc36-abc6-4b45-aa78-cb2bca93b9be",
   "metadata": {},
   "source": [
    "## EXCERCISE-64\n",
    "#### Lists - Exercise #5\n",
    "#### Delete the number 25 from the Numbers list."
   ]
  },
  {
   "cell_type": "code",
   "execution_count": 20,
   "id": "0e53912a-c442-4499-972f-036e954d3bd9",
   "metadata": {},
   "outputs": [
    {
     "data": {
      "text/plain": [
       "[10, 40, 50]"
      ]
     },
     "execution_count": 20,
     "metadata": {},
     "output_type": "execute_result"
    }
   ],
   "source": [
    "Numbers = [10, 25, 40, 50]\n",
    "del Numbers[1]\n",
    "Numbers"
   ]
  },
  {
   "cell_type": "markdown",
   "id": "efeec72f-5bbe-4376-938a-f4e909f09f4f",
   "metadata": {},
   "source": [
    "## EXCERCISE-65\n",
    "#### Using Methods - Exercise #1\n",
    "#### Append the number 100 to the Numbers list."
   ]
  },
  {
   "cell_type": "code",
   "execution_count": 21,
   "id": "64ff54a1-1080-4860-96e6-83e054d7b530",
   "metadata": {},
   "outputs": [],
   "source": [
    "Numbers = [15, 40, 50]\n",
    "Numbers.append(100)"
   ]
  },
  {
   "cell_type": "code",
   "execution_count": 22,
   "id": "8b28bd3c-9614-49d5-9aab-02c59dbb91f2",
   "metadata": {},
   "outputs": [
    {
     "data": {
      "text/plain": [
       "[15, 40, 50, 100]"
      ]
     },
     "execution_count": 22,
     "metadata": {},
     "output_type": "execute_result"
    }
   ],
   "source": [
    "Numbers"
   ]
  },
  {
   "cell_type": "markdown",
   "id": "fc090a48-2b10-401d-a75a-755b4ce5cda3",
   "metadata": {},
   "source": [
    "## EXCERCISE-66\n",
    "#### Using Methods - Exercise #2\n",
    "#### With the help of the .extend() method, add the numbers 115 an 140 to the Numbers list."
   ]
  },
  {
   "cell_type": "code",
   "execution_count": 23,
   "id": "4de0733f-bb2d-499c-9cea-5e811a0bf0e1",
   "metadata": {},
   "outputs": [
    {
     "data": {
      "text/plain": [
       "[15, 40, 50, 100, 115, 140]"
      ]
     },
     "execution_count": 23,
     "metadata": {},
     "output_type": "execute_result"
    }
   ],
   "source": [
    "Numbers = [15, 40, 50, 100]\n",
    "Numbers.extend([115,140])\n",
    "Numbers"
   ]
  },
  {
   "cell_type": "markdown",
   "id": "17abfa06-cad2-4a7a-a706-017c4779687d",
   "metadata": {},
   "source": [
    "## EXCERCISE-67\n",
    "#### Using Methods - Exercise #3\n",
    "#### Print a statement, saying \"The fourth element of the Numbers list is\" followed by the value of the fourth element of the Numbers list. Ensure you use a trailing comma to concatenate the statement with the value."
   ]
  },
  {
   "cell_type": "code",
   "execution_count": 24,
   "id": "697b049e-d1f0-45d6-b2f3-91f70b06a2b7",
   "metadata": {},
   "outputs": [
    {
     "name": "stdout",
     "output_type": "stream",
     "text": [
      "The fourth element of the Numbers list is 100\n"
     ]
    }
   ],
   "source": [
    "Numbers = [15, 40, 50, 100, 115, 140]\n",
    "print(\"The fourth element of the Numbers list is\", Numbers[3])"
   ]
  },
  {
   "cell_type": "markdown",
   "id": "28a0aedd-0fe2-4886-9948-1bc23ee60751",
   "metadata": {},
   "source": [
    "## EXCERCISE-68\n",
    "#### Using Methods - Exercise #4\n",
    "#### Currently, how many elements are there in the Numbers list?"
   ]
  },
  {
   "cell_type": "code",
   "execution_count": 25,
   "id": "b66e2b7e-0513-43b9-817b-00303170e2d0",
   "metadata": {},
   "outputs": [
    {
     "data": {
      "text/plain": [
       "6"
      ]
     },
     "execution_count": 25,
     "metadata": {},
     "output_type": "execute_result"
    }
   ],
   "source": [
    "Numbers = [15, 40, 50, 100, 115, 140]\n",
    "len(Numbers)"
   ]
  },
  {
   "cell_type": "markdown",
   "id": "a53ca406-db81-4069-b4a1-dffe7cc28714",
   "metadata": {},
   "source": [
    "## EXCERCISE-69\n",
    "#### List Slicing - Exercise #1\n",
    "#### Using list slicing, obtain the numbers 100 and 115."
   ]
  },
  {
   "cell_type": "code",
   "execution_count": 26,
   "id": "ff35870f-5d61-41d0-8fd9-eee868406938",
   "metadata": {},
   "outputs": [
    {
     "data": {
      "text/plain": [
       "[100, 115]"
      ]
     },
     "execution_count": 26,
     "metadata": {},
     "output_type": "execute_result"
    }
   ],
   "source": [
    "Numbers = [15, 40, 50, 100, 115, 140]\n",
    "Numbers[3:5]"
   ]
  },
  {
   "cell_type": "markdown",
   "id": "a2264172-9d3f-4b24-8bac-f07750aef01d",
   "metadata": {},
   "source": [
    "## EXCERCISE-70\n",
    "#### List Slicing - Exercise #2\n",
    "#### Using slicing, extract the first four elements from the list."
   ]
  },
  {
   "cell_type": "code",
   "execution_count": 27,
   "id": "87f1e4f4-f2e8-4b25-8f9a-d02f3e0ecceb",
   "metadata": {},
   "outputs": [
    {
     "data": {
      "text/plain": [
       "[15, 40, 50, 100]"
      ]
     },
     "execution_count": 27,
     "metadata": {},
     "output_type": "execute_result"
    }
   ],
   "source": [
    "Numbers = [15, 40, 50, 100, 115, 140]\n",
    "Numbers[:4]"
   ]
  },
  {
   "cell_type": "markdown",
   "id": "95e9b618-e90e-4bed-93c2-b9a1629e6d98",
   "metadata": {},
   "source": [
    "## EXCERCISE-71\n",
    "#### List Slicing - Exercise #3\n",
    "#### Using slicing, extract all the elements from the list from the 3rd position onwards."
   ]
  },
  {
   "cell_type": "code",
   "execution_count": 28,
   "id": "0ce4e7d3-abb8-4680-9f38-a19f5cede4c3",
   "metadata": {},
   "outputs": [
    {
     "data": {
      "text/plain": [
       "[100, 115, 140]"
      ]
     },
     "execution_count": 28,
     "metadata": {},
     "output_type": "execute_result"
    }
   ],
   "source": [
    "Numbers = [15, 40, 50, 100, 115, 140]\n",
    "Numbers[3:]"
   ]
  },
  {
   "cell_type": "markdown",
   "id": "2d80d74c-d6a7-4b6e-9c4d-f87074b8872b",
   "metadata": {},
   "source": [
    "## EXCERCISE-72\n",
    "#### List Slicing - Exercise #4\n",
    "#### Using slicing, extract the last 4 elements from the list."
   ]
  },
  {
   "cell_type": "code",
   "execution_count": 29,
   "id": "e342337a-3797-421f-98e0-98bc76b0a09b",
   "metadata": {},
   "outputs": [
    {
     "data": {
      "text/plain": [
       "[50, 100, 115, 140]"
      ]
     },
     "execution_count": 29,
     "metadata": {},
     "output_type": "execute_result"
    }
   ],
   "source": [
    "Numbers = [15, 40, 50, 100, 115, 140]\n",
    "Numbers[-4:]"
   ]
  },
  {
   "cell_type": "markdown",
   "id": "b516df0f-3137-4e26-bb47-1cb72e97faee",
   "metadata": {},
   "source": [
    "## EXCERCISE-73\n",
    "#### List Slicing - Exercise #5\n",
    "#### Which is the position of the value 15?"
   ]
  },
  {
   "cell_type": "code",
   "execution_count": 30,
   "id": "1f917c47-e927-4285-9b74-fb3f0701d726",
   "metadata": {},
   "outputs": [
    {
     "data": {
      "text/plain": [
       "0"
      ]
     },
     "execution_count": 30,
     "metadata": {},
     "output_type": "execute_result"
    }
   ],
   "source": [
    "Numbers = [15, 40, 50, 100, 115, 140]\n",
    "Numbers.index(15)"
   ]
  },
  {
   "cell_type": "markdown",
   "id": "8dd68374-21d4-48e9-bc16-a4c2fddc0dab",
   "metadata": {},
   "source": [
    "## EXCERCISE-74\n",
    "#### List Slicing - Exercise #6\n",
    "#### Create a list, called Two_Numbers. Let its elements be the values 1 and 2. Then, create a new one, named All_Numbers, that will contain both the Two_Numbers and the Numbers lists in the given order."
   ]
  },
  {
   "cell_type": "code",
   "execution_count": 32,
   "id": "d8a0ef3e-d44d-49d9-ac8e-f4709a1ec7dc",
   "metadata": {},
   "outputs": [
    {
     "data": {
      "text/plain": [
       "[[1, 2], [15, 40, 50, 100, 115, 140]]"
      ]
     },
     "execution_count": 32,
     "metadata": {},
     "output_type": "execute_result"
    }
   ],
   "source": [
    "Numbers = [15, 40, 50, 100, 115, 140]\n",
    "Two_Numbers = [1,2]\n",
    "All_Numbers = [Two_Numbers, Numbers]\n",
    "All_Numbers"
   ]
  },
  {
   "cell_type": "markdown",
   "id": "64d0a63b-acc5-4bbf-8263-31361ddc0ea5",
   "metadata": {},
   "source": [
    "## EXCERCISE-75\n",
    "#### List Slicing - Exercise #7\n",
    "#### Sort all the numbers in the Numbers list from the largest to the smallest."
   ]
  },
  {
   "cell_type": "code",
   "execution_count": 39,
   "id": "b90b24e9-15f3-4dd7-aa0b-22052462cc91",
   "metadata": {},
   "outputs": [
    {
     "data": {
      "text/plain": [
       "[140, 115, 100, 50, 40, 15]"
      ]
     },
     "execution_count": 39,
     "metadata": {},
     "output_type": "execute_result"
    }
   ],
   "source": [
    "Numbers = [15, 40, 50, 100, 115, 140]\n",
    "Numbers.sort(reverse=True)\n",
    "Numbers"
   ]
  },
  {
   "cell_type": "markdown",
   "id": "2c57a5cb-0551-482f-bb62-915f3904380a",
   "metadata": {},
   "source": [
    "## EXCERCISE-76\n",
    "#### Tuples - Exercise #1\n",
    "#### Create a tuple, called Cars, with elements \"BMW\", \"Dodge\", and \"Ford\" in the given order."
   ]
  },
  {
   "cell_type": "code",
   "execution_count": 40,
   "id": "0182d933-d33c-408f-a8e4-ebb200aa5153",
   "metadata": {},
   "outputs": [
    {
     "data": {
      "text/plain": [
       "('BMW', 'Dodge', 'Ford')"
      ]
     },
     "execution_count": 40,
     "metadata": {},
     "output_type": "execute_result"
    }
   ],
   "source": [
    "Cars = (\"BMW\", \"Dodge\", \"Ford\")\n",
    "Cars"
   ]
  },
  {
   "cell_type": "markdown",
   "id": "ce10f3c1-40a9-48d4-8792-caa16b82ae8d",
   "metadata": {},
   "source": [
    "## EXCERCISE-77\n",
    "#### Tuples - Exercise #2\n",
    "#### Access the second element of the Cars tuple."
   ]
  },
  {
   "cell_type": "code",
   "execution_count": 41,
   "id": "908944f2-d855-4d7a-9c96-f8360ca5437f",
   "metadata": {},
   "outputs": [
    {
     "data": {
      "text/plain": [
       "'Dodge'"
      ]
     },
     "execution_count": 41,
     "metadata": {},
     "output_type": "execute_result"
    }
   ],
   "source": [
    "Cars[1]"
   ]
  },
  {
   "cell_type": "markdown",
   "id": "a73abecd-3128-4d62-9ec8-80ba769ff6fd",
   "metadata": {},
   "source": [
    "## EXCERCISE-78\n",
    "#### Tuples - Exercise #3\n",
    "#### Call a method that would allow you to extract the provided name and age separately. Then print the name and age values to see if you worked correctly."
   ]
  },
  {
   "cell_type": "code",
   "execution_count": 47,
   "id": "43d3460e-6a32-4199-ae4b-d4a5a1cb1ee9",
   "metadata": {},
   "outputs": [
    {
     "name": "stdout",
     "output_type": "stream",
     "text": [
      "Peter\n",
      "24\n"
     ]
    }
   ],
   "source": [
    "name, age = 'Peter,24'.split(\",\")\n",
    "print(name)\n",
    "print(age)"
   ]
  },
  {
   "cell_type": "markdown",
   "id": "3612fd1f-9d6b-4455-9f38-e2a38bcf3a9a",
   "metadata": {},
   "source": [
    "## EXCERCISE-79\n",
    "#### Tuples - Exercise #4\n",
    "#### Create a function called rectangle_info() that takes the length and width of a rectangle as arguments. The function should then return the area and the perimeter of the rectangle. Call the function with arguments 2 and 10 to verify it worked correctly."
   ]
  },
  {
   "cell_type": "code",
   "execution_count": 48,
   "id": "e57a2334-617c-4458-888b-d089eefcda06",
   "metadata": {},
   "outputs": [
    {
     "data": {
      "text/plain": [
       "(20, 24)"
      ]
     },
     "execution_count": 48,
     "metadata": {},
     "output_type": "execute_result"
    }
   ],
   "source": [
    "def rectangle_info(length, width):\n",
    "    area = length * width\n",
    "    perimeter = 2 * (length + width)\n",
    "    return area, perimeter\n",
    "\n",
    "rectangle_info(2,10)"
   ]
  },
  {
   "cell_type": "markdown",
   "id": "2bcae92f-248e-4789-90da-962794ad8ec0",
   "metadata": {},
   "source": [
    "## EXCERCISE-80\n",
    "#### Dictionaries - Exercise #1\n",
    "#### This is the menu of a close-by restaurant:\n",
    "#### Menu = {'meal_1':'Spaghetti', 'meal_2':'Fries', 'meal_3':'Hamburger', 'meal_4':'Lasagna'}\n",
    "#### What is the second meal in the list?"
   ]
  },
  {
   "cell_type": "code",
   "execution_count": 49,
   "id": "03e285aa-ed35-4463-be53-151db362ebe0",
   "metadata": {},
   "outputs": [
    {
     "data": {
      "text/plain": [
       "'Fries'"
      ]
     },
     "execution_count": 49,
     "metadata": {},
     "output_type": "execute_result"
    }
   ],
   "source": [
    "Menu = {'meal_1':'Spaghetti', 'meal_2':'Fries', 'meal_3':'Hamburger', 'meal_4':'Lasagna'}\n",
    "Menu['meal_2']"
   ]
  },
  {
   "cell_type": "markdown",
   "id": "f9f96842-6a95-44be-94fc-46d194a527ce",
   "metadata": {},
   "source": [
    "## EXCERCISE-81\n",
    "#### Dictionaries - Exercise #2\n",
    "#### Add a fifth meal: \"Soup\"."
   ]
  },
  {
   "cell_type": "code",
   "execution_count": 51,
   "id": "a191a03a-c6b0-4104-94ad-93c7c2d0ba6b",
   "metadata": {},
   "outputs": [
    {
     "data": {
      "text/plain": [
       "{'meal_1': 'Spaghetti',\n",
       " 'meal_2': 'Fries',\n",
       " 'meal_3': 'Hamburger',\n",
       " 'meal_4': 'Lasagna',\n",
       " 'meal_5': 'Soup'}"
      ]
     },
     "execution_count": 51,
     "metadata": {},
     "output_type": "execute_result"
    }
   ],
   "source": [
    "Menu['meal_5'] = \"Soup\"\n",
    "Menu"
   ]
  },
  {
   "cell_type": "markdown",
   "id": "2b384668-6115-49f0-b49f-6ba4bd5d38b8",
   "metadata": {},
   "source": [
    "## EXCERCISE-82\n",
    "#### Dictionaries - Exercise #3\n",
    "#### Replace the Hamburger with a Cheeseburger."
   ]
  },
  {
   "cell_type": "code",
   "execution_count": 52,
   "id": "ffaf9ab4-1807-4bd3-8b46-3943db4d8fb2",
   "metadata": {},
   "outputs": [
    {
     "data": {
      "text/plain": [
       "{'meal_1': 'Spaghetti',\n",
       " 'meal_2': 'Fries',\n",
       " 'meal_3': 'Cheeseburger',\n",
       " 'meal_4': 'Lasagna',\n",
       " 'meal_5': 'Soup'}"
      ]
     },
     "execution_count": 52,
     "metadata": {},
     "output_type": "execute_result"
    }
   ],
   "source": [
    "Menu['meal_3'] = \"Cheeseburger\"\n",
    "Menu"
   ]
  },
  {
   "cell_type": "markdown",
   "id": "648a1415-cb32-42ff-a5cb-990cd4fd8b3b",
   "metadata": {},
   "source": [
    "## EXCERCISE-83\n",
    "#### Dictionaries - Exercise #4\n",
    "#### Attach the Desserts list as a sixth meal (remember, you were supposed to add Soup as a fifth meal earlier!)."
   ]
  },
  {
   "cell_type": "code",
   "execution_count": 53,
   "id": "37444228-baef-4722-8699-74a00dfe616e",
   "metadata": {},
   "outputs": [
    {
     "data": {
      "text/plain": [
       "{'meal_1': 'Spaghetti',\n",
       " 'meal_2': 'Fries',\n",
       " 'meal_3': 'Cheeseburger',\n",
       " 'meal_4': 'Lasagna',\n",
       " 'meal_5': 'Soup',\n",
       " 'meal_6': ['Pancakes', 'Ice-cream', 'Tiramisu']}"
      ]
     },
     "execution_count": 53,
     "metadata": {},
     "output_type": "execute_result"
    }
   ],
   "source": [
    "Menu = {'meal_1':'Spaghetti', 'meal_2':'Fries', 'meal_3':'Cheeseburger', 'meal_4':'Lasagna'}\n",
    "Dessert = ['Pancakes', 'Ice-cream', 'Tiramisu']\n",
    "Menu['meal_5'] = \"Soup\"\n",
    "Menu['meal_6'] = Dessert\n",
    "Menu"
   ]
  },
  {
   "cell_type": "markdown",
   "id": "548828ce-999c-4bf3-8265-c8b8ad004ad9",
   "metadata": {},
   "source": [
    "## EXCERCISE-84\n",
    "#### Dictionaries - Exercise #5\n",
    "Create a new dictionary called Price_list that contains the first five meals of the Menu dictionary as keys and assign the following five values as prices (assumed in dollars): 10, 5, 8, 12, 5. Start by Price_list = {}."
   ]
  },
  {
   "cell_type": "code",
   "execution_count": 56,
   "id": "a62db1d5-a424-473b-873c-b88ef00aa029",
   "metadata": {},
   "outputs": [
    {
     "data": {
      "text/plain": [
       "{'Spaghetti': 10, 'Fries': 5, 'Cheeseburger': 8, 'Lasagna': 12, 'Soup': 5}"
      ]
     },
     "execution_count": 56,
     "metadata": {},
     "output_type": "execute_result"
    }
   ],
   "source": [
    "Menu = {'meal_1':'Spaghetti', 'meal_2':'Fries', 'meal_3':'Cheeseburger', 'meal_4':'Lasagna', 'meal_5':'Soup'}\n",
    "Price_list = {}\n",
    "Price_list[Menu.get('meal_1')] = 10\n",
    "Price_list[Menu.get('meal_2')] = 5\n",
    "Price_list[Menu.get('meal_3')] = 8\n",
    "Price_list[Menu.get('meal_4')] = 12\n",
    "Price_list[Menu.get('meal_5')] = 5\n",
    "Price_list"
   ]
  },
  {
   "cell_type": "markdown",
   "id": "19494354-9050-43cd-969e-d8bad6e9fa16",
   "metadata": {},
   "source": [
    "## EXCERCISE-85\n",
    "#### Dictionaries - Exercise #6\n",
    "Use the print() function and the .get() method to check the price of the Spaghetti in the Price_list."
   ]
  },
  {
   "cell_type": "code",
   "execution_count": 59,
   "id": "52207127-3fa0-4e84-b7ef-da764cb689d5",
   "metadata": {},
   "outputs": [
    {
     "name": "stdout",
     "output_type": "stream",
     "text": [
      "10\n"
     ]
    }
   ],
   "source": [
    "Price_list = {'Cheeseburger': 8, 'Fries': 5, 'Lasagna': 12, 'Soup': 5, 'Spaghetti': 10}\n",
    "print(Price_list.get(\"Spaghetti\"))"
   ]
  },
  {
   "cell_type": "markdown",
   "id": "fab5356e-700a-49d5-81f7-ec2b87ec9b36",
   "metadata": {},
   "source": [
    "## EXCERCISE-86\n",
    "#### For Loops - Exercise #1\n",
    "#### Create a For loop that prints every digit on a new line."
   ]
  },
  {
   "cell_type": "code",
   "execution_count": 60,
   "id": "7999289d-5eae-41df-b893-0f5c4626cf49",
   "metadata": {},
   "outputs": [
    {
     "name": "stdout",
     "output_type": "stream",
     "text": [
      "0\n",
      "1\n",
      "2\n",
      "3\n",
      "4\n",
      "5\n",
      "6\n",
      "7\n",
      "8\n",
      "9\n"
     ]
    }
   ],
   "source": [
    "digits = [0,1,2,3,4,5,6,7,8,9]\n",
    "for each in digits:\n",
    "    print(each)"
   ]
  },
  {
   "cell_type": "markdown",
   "id": "bf9c29f6-eaa9-4f48-bd14-3c3d16ad136b",
   "metadata": {},
   "source": [
    "## EXCERCISE-87\n",
    "#### For Loops - Exercise #2\n",
    "#### Adjust the code, so the digits are all printed on the same line."
   ]
  },
  {
   "cell_type": "code",
   "execution_count": 61,
   "id": "b2b5a466-09b6-4809-87d9-8b28c1a604a3",
   "metadata": {},
   "outputs": [
    {
     "name": "stdout",
     "output_type": "stream",
     "text": [
      "0 1 2 3 4 5 6 7 8 9 "
     ]
    }
   ],
   "source": [
    "digits = [0,1,2,3,4,5,6,7,8,9]\n",
    "\n",
    "for d in digits:\n",
    "    print (d, end = \" \")"
   ]
  },
  {
   "cell_type": "markdown",
   "id": "d1f368cd-ea54-49c0-9faf-74effa68fcb8",
   "metadata": {},
   "source": [
    "## EXCERCISE-88\n",
    "#### While Loops and Incrementing - Exercise #1\n",
    "Create a while loop that will print all odd numbers from 0 to 30 on the same row."
   ]
  },
  {
   "cell_type": "code",
   "execution_count": 63,
   "id": "49d860f1-fac7-4f66-808b-2390b1441dd1",
   "metadata": {},
   "outputs": [],
   "source": [
    "i = 0\n",
    "while i <= 30:\n",
    "    if i %2 \n",
    "    i = i+1"
   ]
  },
  {
   "cell_type": "markdown",
   "id": "7ca9d391-829f-4797-898f-8656521e511d",
   "metadata": {},
   "source": [
    "## EXCERCISE-89\n",
    "#### Create Lists with the range() Function - Exercise #1\n",
    "Use the range() function to create a list with all numbers from 1 to 10."
   ]
  },
  {
   "cell_type": "code",
   "execution_count": 2,
   "id": "592ad3ce-f546-4ea3-b263-282418766454",
   "metadata": {},
   "outputs": [
    {
     "data": {
      "text/plain": [
       "[1, 2, 3, 4, 5, 6, 7, 8, 9, 10]"
      ]
     },
     "execution_count": 2,
     "metadata": {},
     "output_type": "execute_result"
    }
   ],
   "source": [
    "list(range(1,11))"
   ]
  },
  {
   "cell_type": "markdown",
   "id": "555c1690-e57a-49e1-88e0-6b5af937793b",
   "metadata": {},
   "source": [
    "## EXCERCISE-90\n",
    "#### Create Lists with the range() Function - Exercise #2\n",
    "Use the range() function to create a list with all numbers from 0 to 19."
   ]
  },
  {
   "cell_type": "code",
   "execution_count": 3,
   "id": "649bfe9a-0a5f-4999-be07-a948845c485f",
   "metadata": {},
   "outputs": [
    {
     "data": {
      "text/plain": [
       "[0, 1, 2, 3, 4, 5, 6, 7, 8, 9, 10, 11, 12, 13, 14, 15, 16, 17, 18]"
      ]
     },
     "execution_count": 3,
     "metadata": {},
     "output_type": "execute_result"
    }
   ],
   "source": [
    "list(range(0,19))"
   ]
  },
  {
   "cell_type": "markdown",
   "id": "eae23580-35e7-47f4-8a72-7200c22209ac",
   "metadata": {},
   "source": [
    "## EXCERCISE-91\n",
    "#### Create Lists with the range() Function - Exercise #3\n",
    "Use the range() function to create a list with all even numbers from 0 to 30 included."
   ]
  },
  {
   "cell_type": "code",
   "execution_count": 5,
   "id": "06d4259d-85f3-4ac8-95f3-6507502e7d07",
   "metadata": {},
   "outputs": [
    {
     "data": {
      "text/plain": [
       "[0, 2, 4, 6, 8, 10, 12, 14, 16, 18, 20, 22, 24, 26, 28, 30]"
      ]
     },
     "execution_count": 5,
     "metadata": {},
     "output_type": "execute_result"
    }
   ],
   "source": [
    "list(range(0,31,2))"
   ]
  },
  {
   "cell_type": "markdown",
   "id": "1c180bc0-7da2-4e18-a706-4a9bd0f75450",
   "metadata": {},
   "source": [
    "## EXCERCISE-92\n",
    "### Conditional Statements and Loops - Exercise #1\n",
    "Create a For loop that will print all the variables from a given list multiplied by 2. Let the list contain all numbers from 1 to 10. Create it with the help of the range() function."
   ]
  },
  {
   "cell_type": "code",
   "execution_count": 8,
   "id": "c7757e1c-e736-4669-b04e-18ee11b74453",
   "metadata": {},
   "outputs": [
    {
     "name": "stdout",
     "output_type": "stream",
     "text": [
      "2 4 6 8 10 12 14 16 18 20 "
     ]
    }
   ],
   "source": [
    "for each in range(1,11):\n",
    "    print(each * 2, end = \" \")"
   ]
  },
  {
   "cell_type": "markdown",
   "id": "43e6e020-ab32-4661-badf-ae9a43e4d5e5",
   "metadata": {},
   "source": [
    "## EXCERCISE-93\n",
    "#### Conditional Statements and Loops - Exercise #2\n",
    "Create a little program that runs a loop over all values from 1 to 30. Let it print all odd numbers, and in the place of the even numbers, it should print \"Even\". Help yourself with the range() function to solve this exercise."
   ]
  },
  {
   "cell_type": "code",
   "execution_count": 10,
   "id": "9ee9774f-ebd0-422c-bc73-afe4d63d181d",
   "metadata": {},
   "outputs": [
    {
     "name": "stdout",
     "output_type": "stream",
     "text": [
      "1\n",
      "Even\n",
      "3\n",
      "Even\n",
      "5\n",
      "Even\n",
      "7\n",
      "Even\n",
      "9\n",
      "Even\n",
      "11\n",
      "Even\n",
      "13\n",
      "Even\n",
      "15\n",
      "Even\n",
      "17\n",
      "Even\n",
      "19\n",
      "Even\n",
      "21\n",
      "Even\n",
      "23\n",
      "Even\n",
      "25\n",
      "Even\n",
      "27\n",
      "Even\n",
      "29\n",
      "Even\n"
     ]
    }
   ],
   "source": [
    "for each in range(1,31):\n",
    "    if each %2 != 0:\n",
    "        print(each)\n",
    "    else:\n",
    "        print(\"Even\")"
   ]
  },
  {
   "cell_type": "markdown",
   "id": "78cabb81-9d2d-49c5-a108-7a7253e59e6f",
   "metadata": {},
   "source": [
    "## EXCERCISE-94\n",
    "#### Conditional Statements and Loops - Exercise #3\n",
    "You have the following list of numbers. Iterate over this list, printing out each list value multiplied by 10. Find two solutions of this problem."
   ]
  },
  {
   "cell_type": "code",
   "execution_count": 11,
   "id": "e95f071c-0644-410c-9074-a1e334d495a9",
   "metadata": {},
   "outputs": [
    {
     "name": "stdout",
     "output_type": "stream",
     "text": [
      "10\n",
      "20\n",
      "30\n",
      "40\n",
      "50\n",
      "60\n"
     ]
    }
   ],
   "source": [
    "n = [1,2,3,4,5,6]\n",
    "for i in n:\n",
    "    print(i * 10)"
   ]
  },
  {
   "cell_type": "code",
   "execution_count": 23,
   "id": "e1e1f081-9ca3-40df-ab45-552aa66945a5",
   "metadata": {},
   "outputs": [
    {
     "name": "stdout",
     "output_type": "stream",
     "text": [
      "10 20 30 40 50 60 "
     ]
    }
   ],
   "source": [
    "for item in range(len(n)):\n",
    "    print(n[item] * 10,end=\" \")"
   ]
  },
  {
   "cell_type": "markdown",
   "id": "510fdc27-4263-4265-ab5e-6a0718ec3b59",
   "metadata": {},
   "source": [
    "## EXCERCISE-95\n",
    "#### Conditional Statements, Functions, and Loops - Exercise #1\n",
    "You are provided with the nums list. Define a function called count() containing a while loop to count the number of values in the nums list that are lower than 20."
   ]
  },
  {
   "cell_type": "code",
   "execution_count": 28,
   "id": "a306e422-8f46-4296-853b-186c407b3320",
   "metadata": {},
   "outputs": [
    {
     "name": "stdout",
     "output_type": "stream",
     "text": [
      "2\n"
     ]
    }
   ],
   "source": [
    "nums = [1,35,12,24,31,51,70,100]\n",
    "\n",
    "def count(numbers):\n",
    "    counter = 0\n",
    "    i = 0\n",
    "    while i < len(numbers):\n",
    "        if numbers[i] < 20:\n",
    "            counter = counter + 1\n",
    "        i += 1\n",
    "    return counter\n",
    "\n",
    "print(count(nums))"
   ]
  },
  {
   "cell_type": "markdown",
   "id": "85e11b5e-ae0d-493b-9248-c535f4a2f9d0",
   "metadata": {},
   "source": [
    "## EXCERCISE-96\n",
    "#### Iterating over Dictionaries - Exercise #1\n",
    "In this exercise you will use the same dictionaries as the ones we used in the lesson - prices and quantity. This time, don't just calculate all the money Jan spent. Calculate how much she spent on products with a price of 5 dollars or more."
   ]
  },
  {
   "cell_type": "code",
   "execution_count": 30,
   "id": "c3e84a81-1f1d-49eb-8075-1513553bcdb2",
   "metadata": {},
   "outputs": [
    {
     "name": "stdout",
     "output_type": "stream",
     "text": [
      "50\n"
     ]
    }
   ],
   "source": [
    "prices = {\n",
    "    \"box_of_spaghetti\" : 4,\n",
    "    \"lasagna\"  : 5,\n",
    "    \"hamburger\" : 2\n",
    "   }\n",
    "quantity = {\n",
    "    \"box_of_spaghetti\" : 6,\n",
    "    \"lasagna\"  : 10,\n",
    "    \"hamburger\" : 0\n",
    "    }\n",
    "\n",
    "money_spent = 0\n",
    "\n",
    "for i in prices:\n",
    "    if prices[i] >= 5:\n",
    "        money_spent = money_spent + prices[i] * quantity[i]\n",
    "\n",
    "print(money_spent)"
   ]
  },
  {
   "cell_type": "markdown",
   "id": "d8ae328b-6282-4d3d-b437-306e10dd1993",
   "metadata": {},
   "source": [
    "## EXCERCISE-97\n",
    "#### Iterating over Dictionaries - Exercise #2\n",
    "How much did Jan spent on products that cost less than 5 dollars?"
   ]
  },
  {
   "cell_type": "code",
   "execution_count": 32,
   "id": "096ae01e-b35a-47aa-93d2-a5d124b3d09d",
   "metadata": {},
   "outputs": [
    {
     "name": "stdout",
     "output_type": "stream",
     "text": [
      "24\n"
     ]
    }
   ],
   "source": [
    "prices = {\n",
    "    \"box_of_spaghetti\" : 4,\n",
    "    \"lasagna\"  : 5,\n",
    "    \"hamburger\" : 2\n",
    "   }\n",
    "quantity = {\n",
    "    \"box_of_spaghetti\" : 6,\n",
    "    \"lasagna\"  : 10,\n",
    "    \"hamburger\" : 0\n",
    "    }\n",
    "\n",
    "money_spent = 0\n",
    "for i in prices:\n",
    "    if prices[i] < 5:\n",
    "        money_spent = money_spent + prices[i] * quantity[i]\n",
    "\n",
    "print(money_spent)"
   ]
  },
  {
   "cell_type": "code",
   "execution_count": null,
   "id": "c0313fbb-1b28-4246-9b84-62c9fb6cf4a2",
   "metadata": {},
   "outputs": [],
   "source": []
  }
 ],
 "metadata": {
  "kernelspec": {
   "display_name": "Python 3 (ipykernel)",
   "language": "python",
   "name": "python3"
  },
  "language_info": {
   "codemirror_mode": {
    "name": "ipython",
    "version": 3
   },
   "file_extension": ".py",
   "mimetype": "text/x-python",
   "name": "python",
   "nbconvert_exporter": "python",
   "pygments_lexer": "ipython3",
   "version": "3.11.7"
  }
 },
 "nbformat": 4,
 "nbformat_minor": 5
}
